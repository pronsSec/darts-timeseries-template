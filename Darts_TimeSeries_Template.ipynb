{
  "nbformat": 4,
  "nbformat_minor": 0,
  "metadata": {
    "colab": {
      "name": "Darts TimeSeries Template.ipynb",
      "private_outputs": true,
      "provenance": [],
      "authorship_tag": "ABX9TyNfgG4GZbzrLvfahkxQhQcg",
      "include_colab_link": true
    },
    "kernelspec": {
      "name": "python3",
      "display_name": "Python 3"
    },
    "language_info": {
      "name": "python"
    }
  },
  "cells": [
    {
      "cell_type": "markdown",
      "metadata": {
        "id": "view-in-github",
        "colab_type": "text"
      },
      "source": [
        "<a href=\"https://colab.research.google.com/github/pronsSec/darts-timeseries-template/blob/main/Darts_TimeSeries_Template.ipynb\" target=\"_parent\"><img src=\"https://colab.research.google.com/assets/colab-badge.svg\" alt=\"Open In Colab\"/></a>"
      ]
    },
    {
      "cell_type": "markdown",
      "source": [
        "https://unit8co.github.io/darts/quickstart/00-quickstart.html"
      ],
      "metadata": {
        "id": "afBPcU7CGr0N"
      }
    },
    {
      "cell_type": "code",
      "execution_count": null,
      "metadata": {
        "id": "vk39GE7t-DSp"
      },
      "outputs": [],
      "source": [
        "!pip install pyyaml==5.4.1\n",
        "!pip install darts"
      ]
    },
    {
      "cell_type": "code",
      "source": [
        "%load_ext autoreload\n",
        "#%autoreload 2\n",
        "%matplotlib inline\n",
        "\n",
        "import pandas as pd\n",
        "import numpy as np\n",
        "import matplotlib.pyplot as plt\n",
        "\n",
        "from darts import TimeSeries\n",
        "from darts.datasets import AirPassengersDataset"
      ],
      "metadata": {
        "id": "k0VkHtDz-IxH"
      },
      "execution_count": null,
      "outputs": []
    },
    {
      "cell_type": "code",
      "source": [
        "series = AirPassengersDataset().load()\n",
        "series.plot()"
      ],
      "metadata": {
        "id": "4jDwpyMkBDGE"
      },
      "execution_count": null,
      "outputs": []
    },
    {
      "cell_type": "code",
      "source": [
        "#splitting\n",
        "series1, series2 = series.split_before(0.75)\n",
        "series1.plot()\n",
        "series2.plot()"
      ],
      "metadata": {
        "id": "YvNN0OG3Bafk"
      },
      "execution_count": null,
      "outputs": []
    },
    {
      "cell_type": "code",
      "source": [
        "#slicing\n",
        "series1, series2 = series[:-36], series[-36:]\n",
        "series1.plot()\n",
        "series2.plot()"
      ],
      "metadata": {
        "id": "ID3-1SbBBgpP"
      },
      "execution_count": null,
      "outputs": []
    },
    {
      "cell_type": "code",
      "source": [
        "#mapping\n",
        "series.map(np.log).plot()"
      ],
      "metadata": {
        "id": "DliIm3VCCD1W"
      },
      "execution_count": null,
      "outputs": []
    },
    {
      "cell_type": "code",
      "source": [
        "#diffing\n",
        "series.diff().plot()"
      ],
      "metadata": {
        "id": "rxRahRs9CTxj"
      },
      "execution_count": null,
      "outputs": []
    },
    {
      "cell_type": "code",
      "source": [
        "#filling missing values\n",
        "from darts.utils.missing_values import fill_missing_values\n",
        "\n",
        "values = np.arange(50, step=0.5)\n",
        "values[10:30] = np.nan\n",
        "values[60:95] = np.nan\n",
        "series_ = TimeSeries.from_values(values)\n",
        "\n",
        "(series_ - 10).plot(label=\"with missing values (shifted below)\")\n",
        "fill_missing_values(series_).plot(label=\"without missing values\")"
      ],
      "metadata": {
        "id": "yWg7yfiNCh3Y"
      },
      "execution_count": null,
      "outputs": []
    },
    {
      "cell_type": "code",
      "source": [
        "#creating and plotting training and validation series'\n",
        "\n",
        "train, val = series.split_before(pd.Timestamp(\"19580101\"))\n",
        "train.plot(label=\"training\")\n",
        "val.plot(label=\"validation\")"
      ],
      "metadata": {
        "id": "P4xgKjX8CiCo"
      },
      "execution_count": null,
      "outputs": []
    },
    {
      "cell_type": "code",
      "source": [
        "#naive baseline model for prediction\n",
        "\n",
        "from darts.models import NaiveSeasonal\n",
        "\n",
        "naive_model = NaiveSeasonal(K=1)\n",
        "naive_model.fit(train)\n",
        "naive_forecast = naive_model.predict(36)\n",
        "\n",
        "series.plot(label=\"actual\")\n",
        "naive_forecast.plot(label=\"naive forecast (K=1)\")"
      ],
      "metadata": {
        "id": "pPoiIxlVCiFy"
      },
      "execution_count": null,
      "outputs": []
    },
    {
      "cell_type": "code",
      "source": [
        "#inspect and confirm seasonality . there is a spike at 12 indicating yearly from our auto correlation function\n",
        "from darts.utils.statistics import plot_acf, check_seasonality\n",
        "\n",
        "plot_acf(train, m=12, alpha=0.05)"
      ],
      "metadata": {
        "id": "Ghl2o1Y6CiI-"
      },
      "execution_count": null,
      "outputs": []
    },
    {
      "cell_type": "code",
      "source": [
        "#naiveseasonal model again but with seasonality of 12 ... still missing the trend\n",
        "seasonal_model = NaiveSeasonal(K=12)\n",
        "seasonal_model.fit(train)\n",
        "seasonal_forecast = seasonal_model.predict(36)\n",
        "\n",
        "series.plot(label=\"actual\")\n",
        "seasonal_forecast.plot(label=\"naive forecast (K=12)\")"
      ],
      "metadata": {
        "id": "t_uU-SHqCiMp"
      },
      "execution_count": null,
      "outputs": []
    },
    {
      "cell_type": "markdown",
      "source": [
        "This is better, but we are still missing the trend. Fortunately, there is also another naive baseline model capturing the trend, which is called NaiveDrift. This model simply produces linear predictions, with a slope that is determined by the first and last values of the training set:"
      ],
      "metadata": {
        "id": "u0GrPUjcEFus"
      }
    },
    {
      "cell_type": "code",
      "source": [
        "from darts.models import NaiveDrift\n",
        "\n",
        "drift_model = NaiveDrift()\n",
        "drift_model.fit(train)\n",
        "drift_forecast = drift_model.predict(36)\n",
        "\n",
        "combined_forecast = drift_forecast + seasonal_forecast - train.last_value()\n",
        "\n",
        "series.plot()\n",
        "combined_forecast.plot(label=\"combined\")\n",
        "drift_forecast.plot(label=\"drift\")"
      ],
      "metadata": {
        "id": "iBNkuaIPEG8c"
      },
      "execution_count": null,
      "outputs": []
    },
    {
      "cell_type": "code",
      "source": [
        "#checking errors with Mape (mean absolute percentage error) ... ironically dependency errors break this currently ...there are other ways to do it \n",
        "\n",
        "from darts.metrics import mape\n",
        "\n",
        "print(\n",
        "    \"Mean absolute percentage error for the combined naive drift + seasonal: {:.2f}%.\".format(\n",
        "        mape(series, combined_forecast)\n",
        "    )\n",
        ")"
      ],
      "metadata": {
        "id": "WXJ-DOGVEHDu"
      },
      "execution_count": null,
      "outputs": []
    },
    {
      "cell_type": "code",
      "source": [
        "#better way to train and validate several models with no error \n",
        "from darts.models import ExponentialSmoothing, Prophet, AutoARIMA, Theta\n",
        "\n",
        "\n",
        "def eval_model(model):\n",
        "    model.fit(train)\n",
        "    forecast = model.predict(len(val))\n",
        "    print(\"model {} obtains MAPE: {:.2f}%\".format(model, mape(val, forecast)))\n",
        "\n",
        "\n",
        "eval_model(ExponentialSmoothing())\n",
        "eval_model(Prophet())\n",
        "eval_model(AutoARIMA())\n",
        "eval_model(Theta())"
      ],
      "metadata": {
        "id": "SX4qQa4nEHGm"
      },
      "execution_count": null,
      "outputs": []
    },
    {
      "cell_type": "markdown",
      "source": [
        "search for hyper parameters with theta method"
      ],
      "metadata": {
        "id": "a2RkuAK_FUB0"
      }
    },
    {
      "cell_type": "code",
      "source": [
        "# Search for the best theta parameter, by trying 50 different values\n",
        "thetas = 2 - np.linspace(-10, 10, 50)\n",
        "\n",
        "best_mape = float(\"inf\")\n",
        "best_theta = 0\n",
        "\n",
        "for theta in thetas:\n",
        "    model = Theta(theta)\n",
        "    model.fit(train)\n",
        "    pred_theta = model.predict(len(val))\n",
        "    res = mape(val, pred_theta)\n",
        "\n",
        "    if res < best_mape:\n",
        "        best_mape = res\n",
        "        best_theta = theta"
      ],
      "metadata": {
        "id": "dzMzv2PtEHJI"
      },
      "execution_count": null,
      "outputs": []
    },
    {
      "cell_type": "code",
      "source": [
        "best_theta_model = Theta(best_theta)\n",
        "best_theta_model.fit(train)\n",
        "pred_best_theta = best_theta_model.predict(len(val))\n",
        "\n",
        "print(\n",
        "    \"The MAPE is: {:.2f}, with theta = {}.\".format(\n",
        "        mape(val, pred_best_theta), best_theta\n",
        "    )\n",
        ")"
      ],
      "metadata": {
        "id": "LSPX3F5xEHLq"
      },
      "execution_count": null,
      "outputs": []
    },
    {
      "cell_type": "code",
      "source": [
        "train.plot(label=\"train\")\n",
        "val.plot(label=\"true\")\n",
        "pred_best_theta.plot(label=\"prediction\")"
      ],
      "metadata": {
        "id": "dXiMVBj0FPjU"
      },
      "execution_count": null,
      "outputs": []
    },
    {
      "cell_type": "markdown",
      "source": [
        "Backtesting to simulate historical forecasting for validation\n"
      ],
      "metadata": {
        "id": "KeboMaqdFk9Q"
      }
    },
    {
      "cell_type": "code",
      "source": [
        "historical_fcast_theta = best_theta_model.historical_forecasts(\n",
        "    series, start=0.6, forecast_horizon=3, verbose=True\n",
        ")\n",
        "\n",
        "series.plot(label=\"data\")\n",
        "historical_fcast_theta.plot(label=\"backtest 3-months ahead forecast (Theta)\")\n",
        "print(\"MAPE = {:.2f}%\".format(mape(historical_fcast_theta, series)))"
      ],
      "metadata": {
        "id": "c7fxALL5Flb_"
      },
      "execution_count": null,
      "outputs": []
    },
    {
      "cell_type": "code",
      "source": [
        "#it appears to be overfit, using backtest() to obtain raw mape errors \n",
        "best_theta_model = Theta(best_theta)\n",
        "\n",
        "raw_errors = best_theta_model.backtest(\n",
        "    series, start=0.6, forecast_horizon=3, metric=mape, reduction=None, verbose=True\n",
        ")\n",
        "\n",
        "from darts.utils.statistics import plot_hist\n",
        "\n",
        "plot_hist(\n",
        "    raw_errors,\n",
        "    bins=np.arange(0, max(raw_errors), 1),\n",
        "    title=\"Individual backtest error scores (histogram)\",\n",
        ")"
      ],
      "metadata": {
        "id": "EJfwD6b3Fle8"
      },
      "execution_count": null,
      "outputs": []
    },
    {
      "cell_type": "code",
      "source": [
        "average_error = best_theta_model.backtest(\n",
        "    series,\n",
        "    start=0.6,\n",
        "    forecast_horizon=3,\n",
        "    metric=mape,\n",
        "    reduction=np.mean,  # this is actually the default\n",
        "    verbose=True,\n",
        ")\n",
        "\n",
        "print(\"Average error (MAPE) over all historical forecasts: %.2f\" % average_error)"
      ],
      "metadata": {
        "id": "WkDMARRNFlhr"
      },
      "execution_count": null,
      "outputs": []
    },
    {
      "cell_type": "markdown",
      "source": [
        "look at fitted value residuals of theta model.. basically the dif between 1 step forecasts"
      ],
      "metadata": {
        "id": "f_3oB7ImGXyA"
      }
    },
    {
      "cell_type": "code",
      "source": [
        "from darts.utils.statistics import plot_residuals_analysis\n",
        "\n",
        "plot_residuals_analysis(best_theta_model.residuals(series))"
      ],
      "metadata": {
        "id": "fhAw8KmRFPv8"
      },
      "execution_count": null,
      "outputs": []
    },
    {
      "cell_type": "markdown",
      "source": [
        "We can see that the distribution is not centered at 0, which means that our Theta model is biased. We can also make out a large ACF value at lag equal to 12, which indicates that the residuals contain information that was not used by the model.\n",
        "\n",
        "Could we maybe do better with a simple ExponentialSmoothing model?"
      ],
      "metadata": {
        "id": "ISUcn5LRG125"
      }
    },
    {
      "cell_type": "code",
      "source": [
        "model_es = ExponentialSmoothing()\n",
        "historical_fcast_es = model_es.historical_forecasts(\n",
        "    series, start=0.6, forecast_horizon=3, verbose=True\n",
        ")\n",
        "\n",
        "series.plot(label=\"data\")\n",
        "historical_fcast_es.plot(label=\"backtest 3-months ahead forecast (Exp. Smoothing)\")\n",
        "print(\"MAPE = {:.2f}%\".format(mape(historical_fcast_es, series)))"
      ],
      "metadata": {
        "id": "nnF6ulBtFP46"
      },
      "execution_count": null,
      "outputs": []
    },
    {
      "cell_type": "code",
      "source": [
        "plot_residuals_analysis(model_es.residuals(series))"
      ],
      "metadata": {
        "id": "0Mik5900GwhB"
      },
      "execution_count": null,
      "outputs": []
    },
    {
      "cell_type": "code",
      "source": [
        ""
      ],
      "metadata": {
        "id": "op93YIJ8Gwpa"
      },
      "execution_count": null,
      "outputs": []
    },
    {
      "cell_type": "markdown",
      "source": [
        "The residual analysis also reflects an improved performance in that we now have a distribution of the residuals centred at value 0, and the ACF values, although not insignificant, have lower magnitudes.\n",
        "---\n",
        "\n",
        "---\n",
        "\n",
        "\n",
        "\n",
        "---\n",
        "\n",
        "Machine learning and global models\n",
        "Darts has a rich support for machine learning and deep learning forecasting models; for instance:\n",
        "\n",
        "RegressionModel can wrap around any sklearn-compatible regression model to produce forecasts (it has its own section below).\n",
        "\n",
        "RNNModel is a flexible RNN implementation, which can be used like DeepAR.\n",
        "\n",
        "NBEATSModel implements the N-BEATS model.\n",
        "\n",
        "TFTModel implements the Temporal Fusion Transformer model.\n",
        "\n",
        "TCNModel implements temporal convolutional networks.\n",
        "\n",
        "…\n",
        "\n",
        "In addition to supporting the same basic fit()/predict() interface as the other models, these models are also global models, as they support being trained on multiple time series (sometimes referred to as meta learning).\n",
        "\n",
        "This is a key point of using ML-based models for forecasting: more often than not, ML models (especially deep learning models) need to be trained on large amounts of data, which often means a large amount of separate yet related time series.\n",
        "\n",
        "In Darts, the basic way to specify multiple TimeSeries is using a Sequence of TimeSeries (for instance, a simple list of TimeSeries)."
      ],
      "metadata": {
        "id": "VQphmA0hHN36"
      }
    },
    {
      "cell_type": "code",
      "source": [
        ""
      ],
      "metadata": {
        "id": "TmywjPPsGwsa"
      },
      "execution_count": null,
      "outputs": []
    },
    {
      "cell_type": "code",
      "source": [
        ""
      ],
      "metadata": {
        "id": "d2znGAFGGwvI"
      },
      "execution_count": null,
      "outputs": []
    },
    {
      "cell_type": "code",
      "source": [
        ""
      ],
      "metadata": {
        "id": "5dKhB-alGwyG"
      },
      "execution_count": null,
      "outputs": []
    }
  ]
}